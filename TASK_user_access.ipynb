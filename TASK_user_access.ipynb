{
  "nbformat": 4,
  "nbformat_minor": 0,
  "metadata": {
    "colab": {
      "name": "TASK_user_access.ipynb",
      "provenance": [],
      "collapsed_sections": [],
      "authorship_tag": "ABX9TyMCGXpy4ERwl2SZFFHgiZT+",
      "include_colab_link": true
    },
    "kernelspec": {
      "name": "python3",
      "display_name": "Python 3"
    },
    "language_info": {
      "name": "python"
    }
  },
  "cells": [
    {
      "cell_type": "markdown",
      "metadata": {
        "id": "view-in-github",
        "colab_type": "text"
      },
      "source": [
        "<a href=\"https://colab.research.google.com/github/RajasuganyaM/Python-programs/blob/master/TASK_user_access.ipynb\" target=\"_parent\"><img src=\"https://colab.research.google.com/assets/colab-badge.svg\" alt=\"Open In Colab\"/></a>"
      ]
    },
    {
      "cell_type": "code",
      "metadata": {
        "colab": {
          "base_uri": "https://localhost:8080/"
        },
        "id": "SnrYgHZa87Dk",
        "outputId": "a3916132-e824-4a4e-dd2d-7665cdd7abf6"
      },
      "source": [
        "def user_access():\n",
        "    print(\"User allowed to access\")\n",
        "\n",
        "\n",
        "x= input(\"Enter the user name : \")\n",
        "if x==\"admin\" or x==\"manager\" or x==\"developer\":\n",
        "                      user_access()\n",
        "else:\n",
        "   print(\"User NOT allowed\")    \n",
        "    "
      ],
      "execution_count": 15,
      "outputs": [
        {
          "output_type": "stream",
          "name": "stdout",
          "text": [
            "Enter the user name : fff\n",
            "User NOT allowed\n"
          ]
        }
      ]
    },
    {
      "cell_type": "code",
      "metadata": {
        "colab": {
          "base_uri": "https://localhost:8080/"
        },
        "id": "Dvt3fXyC-ovN",
        "outputId": "cf9cb45f-d844-4fc7-8991-44b518998760"
      },
      "source": [
        "def user_access():\n",
        "    print(\"User is allowed\")\n",
        "\n",
        "x1=input(\"Enter the user type : \")\n",
        "x=[\"admin\",\"manager\",\"developer\"]\n",
        "type(x)\n",
        "if x1 in x:\n",
        "   user_access()\n",
        "else:\n",
        "   print(\"NOT ALLOWED\") \n",
        "\n",
        "    \n",
        "    "
      ],
      "execution_count": 20,
      "outputs": [
        {
          "name": "stdout",
          "output_type": "stream",
          "text": [
            "Enter the user type : dd\n"
          ]
        }
      ]
    }
  ]
}