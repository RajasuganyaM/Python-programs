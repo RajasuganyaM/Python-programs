{
  "nbformat": 4,
  "nbformat_minor": 0,
  "metadata": {
    "colab": {
      "name": "suganya_task2.ipynb",
      "provenance": [],
      "collapsed_sections": [],
      "authorship_tag": "ABX9TyO4tqoMzazBRFWmNvVaO8LB",
      "include_colab_link": true
    },
    "kernelspec": {
      "name": "python3",
      "display_name": "Python 3"
    }
  },
  "cells": [
    {
      "cell_type": "markdown",
      "metadata": {
        "id": "view-in-github",
        "colab_type": "text"
      },
      "source": [
        "<a href=\"https://colab.research.google.com/github/RajasuganyaM/Python-programs/blob/master/suganya_task2.ipynb\" target=\"_parent\"><img src=\"https://colab.research.google.com/assets/colab-badge.svg\" alt=\"Open In Colab\"/></a>"
      ]
    },
    {
      "cell_type": "code",
      "metadata": {
        "id": "nJiLpIR_Ex8_",
        "colab_type": "code",
        "colab": {}
      },
      "source": [
        "# SUM OF THE SQUARES.\n",
        "\n",
        "\n",
        "term=int(input(\"Adding the squares of numbers from 0 to : \\t\",))\n",
        "i=0\n",
        "sum=0\n",
        "while i<=term:\n",
        "# print(i)\n",
        "#sum=sum+i\n",
        " sum=sum+(i**2)\n",
        " i+=1\n",
        "# print(sum) "
      ],
      "execution_count": null,
      "outputs": []
    },
    {
      "cell_type": "code",
      "metadata": {
        "id": "4Qw9RqUq5-8W",
        "colab_type": "code",
        "colab": {}
      },
      "source": [
        "# LCM OF TWO NUMBERS\n",
        "\n",
        "\n",
        "def LCM(x,y):\n",
        "  if x >y:\n",
        "    greater = x\n",
        "  else:\n",
        "      greater=y\n",
        "\n",
        "  while(True):\n",
        "     if((greater % x == 0)and (greater % y ==0)):\n",
        "       ans=greater\n",
        "       break\n",
        "      \n",
        "     greater+=1\n",
        "\n",
        "  return ans\n",
        "\n",
        "x=13\n",
        "y=57\n",
        "\n",
        "print(\"LCM is :\",LCM(x,y))"
      ],
      "execution_count": null,
      "outputs": []
    },
    {
      "cell_type": "code",
      "metadata": {
        "id": "4rHbCJVk7b63",
        "colab_type": "code",
        "colab": {}
      },
      "source": [
        "#ADDING ELEMENTS IN ARRAY\n",
        "\n",
        "arr=[10,20,30,40]\n",
        "ans=sum(arr)\n",
        "print(ans)"
      ],
      "execution_count": null,
      "outputs": []
    },
    {
      "cell_type": "code",
      "metadata": {
        "id": "va8_UCR1DjSu",
        "colab_type": "code",
        "colab": {
          "base_uri": "https://localhost:8080/",
          "height": 34
        },
        "outputId": "7fa2f22f-a3c4-486f-f9dc-b4065ac65b2f"
      },
      "source": [
        "#REVERSE ELEMENTS IN A LIST\n",
        "\n",
        "mylist=['a','b','c','d']\n",
        "mylist.reverse()\n",
        "print(\"Reversed list\",mylist)"
      ],
      "execution_count": null,
      "outputs": [
        {
          "output_type": "stream",
          "text": [
            "Reversed list ['d', 'c', 'b', 'a']\n"
          ],
          "name": "stdout"
        }
      ]
    },
    {
      "cell_type": "code",
      "metadata": {
        "id": "RY0K-33jFXEO",
        "colab_type": "code",
        "colab": {}
      },
      "source": [
        "# FINDING THE SECOND LEAST NUMBER IN A LIST\n",
        "\n",
        "\n",
        "\n",
        "lst=[10,65,55,99,41,5]\n",
        "lst.sort()\n",
        "lst[0]\n",
        "lst[2]"
      ],
      "execution_count": null,
      "outputs": []
    },
    {
      "cell_type": "code",
      "metadata": {
        "id": "tmpLttavGcGd",
        "colab_type": "code",
        "colab": {
          "base_uri": "https://localhost:8080/",
          "height": 51
        },
        "outputId": "8526d98e-bf44-469d-9ea7-a1ab784d217a"
      },
      "source": [
        "\n",
        "# COPYIG OR CLONING LIST\n",
        "\n",
        "li1 = [4, 8, 5, 10, 15, 18] \n",
        "#li2 = li1[:] \n",
        "#li2= list(li1)\n",
        "li2=li1.copy()\n",
        "print(\"Original List:\", li1) \n",
        "print(\"After Cloning:\", li2)"
      ],
      "execution_count": null,
      "outputs": [
        {
          "output_type": "stream",
          "text": [
            "Original List: [4, 8, 5, 10, 15, 18]\n",
            "After Cloning: [4, 8, 5, 10, 15, 18]\n"
          ],
          "name": "stdout"
        }
      ]
    },
    {
      "cell_type": "code",
      "metadata": {
        "id": "IqwbZfcfs4YV",
        "colab_type": "code",
        "colab": {
          "base_uri": "https://localhost:8080/",
          "height": 51
        },
        "outputId": "3020d206-e717-46c0-e045-333e3c73188a"
      },
      "source": [
        "#  FIND ODD AND EVEN NUMBERS IN A LIST \n",
        "\n",
        "\n",
        "mylist=[20,55,44,37,21,98,100,4,2,3,1,11]\n",
        "\n",
        "only_odd=[num for num in mylist if num%2 == 1 ]\n",
        "\n",
        "only_even=[num for num in mylist if num%2 == 0]\n",
        "\n",
        "print(only_even)\n",
        "\n",
        "print (only_odd)"
      ],
      "execution_count": 8,
      "outputs": [
        {
          "output_type": "stream",
          "text": [
            "[20, 44, 98, 100, 4, 2]\n",
            "[55, 37, 21, 3, 1, 11]\n"
          ],
          "name": "stdout"
        }
      ]
    },
    {
      "cell_type": "code",
      "metadata": {
        "id": "5_njJ0mzy2d2",
        "colab_type": "code",
        "colab": {
          "base_uri": "https://localhost:8080/",
          "height": 34
        },
        "outputId": "95ff45b6-8c15-4f82-f3e6-800a8b1f7e27"
      },
      "source": [
        "#BREAKING LIST INTO CHUNKS\n",
        "\n",
        "mylist = [1, 2, 3, 4, 5, 6, 7, 8, 9,10,11,12,13,14]  \n",
        "   \n",
        "n = 3\n",
        "   \n",
        "# using list comprehension  \n",
        "\n",
        "x = [mylist[i:i+n] for i in range(0, len(l), n)]  \n",
        "print(x) "
      ],
      "execution_count": 21,
      "outputs": [
        {
          "output_type": "stream",
          "text": [
            "[[1, 2, 3], [4, 5, 6], [7, 8, 9], [10, 11, 12], [13, 14]]\n"
          ],
          "name": "stdout"
        }
      ]
    },
    {
      "cell_type": "code",
      "metadata": {
        "id": "ljTHyISLJwHv",
        "colab_type": "code",
        "colab": {
          "base_uri": "https://localhost:8080/",
          "height": 68
        },
        "outputId": "bd15893b-154f-4378-8a7b-2f2226574401"
      },
      "source": [
        "# CONVERTING ASCII TO NUMBER AND VICE VERSA.\n",
        "\n",
        "\n",
        "#ord('A')\n",
        "x=input(\"Enter any character : \\t\")\n",
        "ord(x)\n",
        "y=int(input(\"Enter any number: \\t\"))\n",
        "chr(y)\n",
        "ord(x)"
      ],
      "execution_count": null,
      "outputs": [
        {
          "output_type": "stream",
          "text": [
            "Enter any character : \t%\n",
            "Enter any number: \t67\n"
          ],
          "name": "stdout"
        },
        {
          "output_type": "execute_result",
          "data": {
            "text/plain": [
              "37"
            ]
          },
          "metadata": {
            "tags": []
          },
          "execution_count": 1
        }
      ]
    }
  ]
}