{
  "nbformat": 4,
  "nbformat_minor": 0,
  "metadata": {
    "colab": {
      "name": "lamba_sample.ipynb",
      "provenance": [],
      "authorship_tag": "ABX9TyNIL8voFw4mQgPWooXENvGY",
      "include_colab_link": true
    },
    "kernelspec": {
      "name": "python3",
      "display_name": "Python 3"
    },
    "language_info": {
      "name": "python"
    }
  },
  "cells": [
    {
      "cell_type": "markdown",
      "metadata": {
        "id": "view-in-github",
        "colab_type": "text"
      },
      "source": [
        "<a href=\"https://colab.research.google.com/github/RajasuganyaM/Python-programs/blob/master/lamba_sample.ipynb\" target=\"_parent\"><img src=\"https://colab.research.google.com/assets/colab-badge.svg\" alt=\"Open In Colab\"/></a>"
      ]
    },
    {
      "cell_type": "code",
      "metadata": {
        "colab": {
          "base_uri": "https://localhost:8080/"
        },
        "id": "52MRrSbfBCnZ",
        "outputId": "5a33c754-9984-493b-e594-7c7c38cff271"
      },
      "source": [
        "def main(a,b):\n",
        "   print(a+b)\n",
        "main(3,6)\n",
        "\n",
        "\n",
        "\n",
        "#SINGLE LINE OF THE SAME FUNCTION\n",
        "#def ==> lambda\n",
        "# function name main ===> argument\n",
        "\n",
        "#z=lambda argument:function\n",
        "#z(argument1,argument2) \n",
        "z=lambda a,b:a+b\n",
        "print(z(2,4))\n"
      ],
      "execution_count": 3,
      "outputs": [
        {
          "output_type": "stream",
          "name": "stdout",
          "text": [
            "9\n",
            "6\n"
          ]
        }
      ]
    }
  ]
}