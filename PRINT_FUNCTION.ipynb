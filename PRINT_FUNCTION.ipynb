{
  "nbformat": 4,
  "nbformat_minor": 0,
  "metadata": {
    "colab": {
      "name": "PRINT_FUNCTION.ipynb",
      "provenance": [],
      "collapsed_sections": [],
      "authorship_tag": "ABX9TyMDhAWH0H/93nobKgCxVKfx",
      "include_colab_link": true
    },
    "kernelspec": {
      "name": "python3",
      "display_name": "Python 3"
    },
    "language_info": {
      "name": "python"
    }
  },
  "cells": [
    {
      "cell_type": "markdown",
      "metadata": {
        "id": "view-in-github",
        "colab_type": "text"
      },
      "source": [
        "<a href=\"https://colab.research.google.com/github/RajasuganyaM/Python-programs/blob/master/PRINT_FUNCTION.ipynb\" target=\"_parent\"><img src=\"https://colab.research.google.com/assets/colab-badge.svg\" alt=\"Open In Colab\"/></a>"
      ]
    },
    {
      "cell_type": "code",
      "metadata": {
        "id": "nswcJ8vKnTKz"
      },
      "source": [
        "\n",
        "#comment  -->  Pyhton we have only single line comment\n",
        "# PRINT STATEMENT\n",
        "print('single quote')\n",
        "print(\"double quotes\")\n",
        "print(''' multi..... \n",
        "line can be typed this way ''')\n",
        "print(\"\"\" double quote\n",
        " multi...... \n",
        "line comment \"\"\")"
      ],
      "execution_count": null,
      "outputs": []
    },
    {
      "cell_type": "code",
      "metadata": {
        "id": "P3pUWJKQnYmY"
      },
      "source": [
        "\n",
        "#with in quotes it is a sting\n",
        "#without quotes it is a value\n",
        "print(\"12 + 12\")\n",
        "print(12+12)\n",
        "print(\"12+12=\", 12+12)"
      ],
      "execution_count": null,
      "outputs": []
    }
  ]
}