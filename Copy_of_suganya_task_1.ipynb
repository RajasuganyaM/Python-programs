{
  "nbformat": 4,
  "nbformat_minor": 0,
  "metadata": {
    "colab": {
      "name": "Copy of suganya_task 1.ipynb",
      "provenance": [],
      "collapsed_sections": [],
      "authorship_tag": "ABX9TyMRJefKYssqVC9hT8u/AfmN",
      "include_colab_link": true
    },
    "kernelspec": {
      "name": "python3",
      "display_name": "Python 3"
    }
  },
  "cells": [
    {
      "cell_type": "markdown",
      "metadata": {
        "id": "view-in-github",
        "colab_type": "text"
      },
      "source": [
        "<a href=\"https://colab.research.google.com/github/RajasuganyaM/Python-programs/blob/master/Copy_of_suganya_task_1.ipynb\" target=\"_parent\"><img src=\"https://colab.research.google.com/assets/colab-badge.svg\" alt=\"Open In Colab\"/></a>"
      ]
    },
    {
      "cell_type": "code",
      "metadata": {
        "id": "a2nYM9Vh-Jon",
        "colab_type": "code",
        "colab": {}
      },
      "source": [
        "# FIBINOCCI SERIES\n",
        "\n",
        "term = int(input(\"Enter the number of terms: \\t \"))\n",
        "\n",
        "a=0\n",
        "b=1\n",
        "i=0\n",
        "print(\"Fibinocci series:\")\n",
        "while i < term:\n",
        "   print(a)\n",
        "   x=a+b\n",
        "   a=b\n",
        "   b=x\n",
        "   i+=1"
      ],
      "execution_count": null,
      "outputs": []
    },
    {
      "cell_type": "code",
      "metadata": {
        "id": "qaOb_XvH_Qtc",
        "colab_type": "code",
        "colab": {}
      },
      "source": [
        "#EB BILL\n",
        "\n",
        "\n",
        "u = float(input(\"Enter the number of units :\"))\n",
        "\n",
        "if (u > 500):\n",
        "  amount=u*9.65\n",
        "\n",
        "elif(u >=300) :\n",
        "  amount=u*5.25\n",
        "\n",
        "elif(u >= 200):\n",
        "   amount=u*3.25\n",
        "\n",
        "else:\n",
        "   amount=u*2.21\n",
        "\n",
        "print(\"The electricity bill is :\",amount)"
      ],
      "execution_count": null,
      "outputs": []
    },
    {
      "cell_type": "code",
      "metadata": {
        "id": "Ntgglkxh_Qvp",
        "colab_type": "code",
        "colab": {}
      },
      "source": [
        "# MARKSHEET GENERATOR\n",
        "\n",
        "print(\"................. MARKSHEET......................\")\n",
        "a=float(input(\"ENGLISH: \\t\"))\n",
        "b=float(input(\"TAMIL: \\t\"))\n",
        "c=float(input(\"MATHS: \\t\"))\n",
        "d=float(input(\"SCIENCE: \\t\"))\n",
        "e=float(input(\"SOCIAL: \\t\"))\n",
        "if(a or b or c or d or e) <= 34:\n",
        "  print(\"FAIL\")\n",
        "else:\n",
        "  tot=a+b+c+d+e\n",
        "  print(\"================================================\")\n",
        "  print(\"TOTAL MARKS: \",tot)\n",
        "  avg=tot*100/500\n",
        "  print(\"AVERAGE:\",avg,\"%\")\n",
        "  print(\"PASS\")\n",
        "  print(\"================================================\")"
      ],
      "execution_count": null,
      "outputs": []
    },
    {
      "cell_type": "code",
      "metadata": {
        "id": "O8uwpqbnDR5_",
        "colab_type": "code",
        "colab": {}
      },
      "source": [
        "#SIMPLE INTEREST\n",
        "\n",
        "p=float(input(\"Enter the principal amount:\"))\n",
        "n=int(input(\"Number of years:\"))\n",
        "r=float(input(\"Rate of interest:\"))\n",
        "simple(p,n,r)\n",
        "\n",
        "def simple(p,n,r):\n",
        "    s=(p*n*r)/100\n",
        "    print(\"The Simple Interest is:\",s)\n",
        "    return s"
      ],
      "execution_count": null,
      "outputs": []
    },
    {
      "cell_type": "code",
      "metadata": {
        "id": "Ctk9RX1JGTdd",
        "colab_type": "code",
        "colab": {}
      },
      "source": [
        "#ARMSTRONG NUMBER\n",
        "\n",
        "n = int(input(\"Enter a number: \"))  \n",
        "sum = 0  \n",
        "i = n  \n",
        "  \n",
        "while i > 0:  \n",
        "   digit = i % 10  \n",
        "   sum += digit ** 3  \n",
        "   i //= 10  \n",
        "  \n",
        "if n == sum:  \n",
        "   print(n,\"It is an Armstrong number\")  \n",
        "else:  \n",
        "   print(n,\"IT is not an Armstrong number\") "
      ],
      "execution_count": null,
      "outputs": []
    }
  ]
}