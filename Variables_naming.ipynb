{
  "nbformat": 4,
  "nbformat_minor": 0,
  "metadata": {
    "colab": {
      "name": "Variables_naming.ipynb",
      "provenance": [],
      "collapsed_sections": [],
      "authorship_tag": "ABX9TyNgVvfA1fOgNO8VUkvpV6G9",
      "include_colab_link": true
    },
    "kernelspec": {
      "name": "python3",
      "display_name": "Python 3"
    },
    "language_info": {
      "name": "python"
    }
  },
  "cells": [
    {
      "cell_type": "markdown",
      "metadata": {
        "id": "view-in-github",
        "colab_type": "text"
      },
      "source": [
        "<a href=\"https://colab.research.google.com/github/RajasuganyaM/Python-programs/blob/master/Variables_naming.ipynb\" target=\"_parent\"><img src=\"https://colab.research.google.com/assets/colab-badge.svg\" alt=\"Open In Colab\"/></a>"
      ]
    },
    {
      "cell_type": "code",
      "metadata": {
        "id": "dn37-rrTRuhK"
      },
      "source": [
        "#VARIABLE\n",
        "#IDENTIFIER Variable is used to identify a value by its name\n",
        "# Variable can be reusable\n",
        "# varible is case sensitive\n",
        "x=10\n",
        "X=30\n",
        "firstName = \"python\" # camel case help for readability\n",
        "x1=23 #1x can be given to variable.should not start with number\n",
        "_x=40\n",
        "x_=55 #underscore can be used in start or inbetween\n",
        "# x e=30\n",
        "# x@r= 40 not possible\n",
        "\n"
      ],
      "execution_count": null,
      "outputs": []
    },
    {
      "cell_type": "code",
      "metadata": {
        "id": "XcFSTkQ7Rfg7"
      },
      "source": [
        "x= 12\n",
        "y = 5.5\n",
        "s= \"hello world\"\n",
        "d= True\n",
        "#python is loosely coupled language. while declaring , it automatically inderstand the type."
      ],
      "execution_count": null,
      "outputs": []
    },
    {
      "cell_type": "code",
      "metadata": {
        "id": "pkuUCMrUVcBT"
      },
      "source": [
        "id(x) #used to get memory location\n",
        "del(x) #delete the variable\n",
        "#name Error : when the varible is not delcared"
      ],
      "execution_count": null,
      "outputs": []
    },
    {
      "cell_type": "code",
      "metadata": {
        "id": "I5gc3E_0XGMw",
        "colab": {
          "base_uri": "https://localhost:8080/"
        },
        "outputId": "9135a5fe-e785-4d06-c98b-6054e508d810"
      },
      "source": [
        "x,y=14,33.5\n",
        "a=b=c= 40 # vlaue is same and id is also same\n",
        "\n",
        "a,b=56,2.1\n",
        "b"
      ],
      "execution_count": 2,
      "outputs": [
        {
          "output_type": "execute_result",
          "data": {
            "text/plain": [
              "2.1"
            ]
          },
          "metadata": {},
          "execution_count": 2
        }
      ]
    },
    {
      "cell_type": "code",
      "metadata": {
        "id": "KF-21rktWHku"
      },
      "source": [
        "#python is dynamic memory\n",
        "x= 20\n",
        "id(x) #3916065541216 address name\n",
        "x=\"hello\"\n",
        "id (x) #139959975531312  addres name"
      ],
      "execution_count": null,
      "outputs": []
    }
  ]
}