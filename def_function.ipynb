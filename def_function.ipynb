{
  "nbformat": 4,
  "nbformat_minor": 0,
  "metadata": {
    "colab": {
      "name": "def_function.ipynb",
      "provenance": [],
      "collapsed_sections": [],
      "authorship_tag": "ABX9TyMfgMeAbf1gRB72ALnOfLTY",
      "include_colab_link": true
    },
    "kernelspec": {
      "name": "python3",
      "display_name": "Python 3"
    },
    "language_info": {
      "name": "python"
    }
  },
  "cells": [
    {
      "cell_type": "markdown",
      "metadata": {
        "id": "view-in-github",
        "colab_type": "text"
      },
      "source": [
        "<a href=\"https://colab.research.google.com/github/RajasuganyaM/Python-programs/blob/master/def_function.ipynb\" target=\"_parent\"><img src=\"https://colab.research.google.com/assets/colab-badge.svg\" alt=\"Open In Colab\"/></a>"
      ]
    },
    {
      "cell_type": "code",
      "metadata": {
        "colab": {
          "base_uri": "https://localhost:8080/"
        },
        "id": "GAW5fZ0Fg888",
        "outputId": "25894b54-0f67-46f1-e082-474e08fdb844"
      },
      "source": [
        "#def is a key for creating a function\n",
        "# main is a user defined funtion created\n",
        "\n",
        "def main():\n",
        "  print(\"hello\")\n",
        "\n",
        "main()  "
      ],
      "execution_count": 1,
      "outputs": [
        {
          "output_type": "stream",
          "name": "stdout",
          "text": [
            "hello\n"
          ]
        }
      ]
    },
    {
      "cell_type": "code",
      "metadata": {
        "colab": {
          "base_uri": "https://localhost:8080/"
        },
        "id": "jD-fcrwVik5m",
        "outputId": "54b800c7-84da-45cf-85df-cdf42cc5fb83"
      },
      "source": [
        "#passing arguments in function\n",
        "def main(a):\n",
        "  print(a+2)\n",
        "main(2)\n",
        "main(45) #we can call function multiple times\n"
      ],
      "execution_count": 2,
      "outputs": [
        {
          "output_type": "stream",
          "name": "stdout",
          "text": [
            "4\n"
          ]
        }
      ]
    },
    {
      "cell_type": "code",
      "metadata": {
        "colab": {
          "base_uri": "https://localhost:8080/"
        },
        "id": "1v9rbIATjMhf",
        "outputId": "dddaf44d-4130-4ce5-b24e-c43e7c18cb82"
      },
      "source": [
        "#fucntion with multiple arguments\n",
        "def main(a,b):\n",
        "    print(a+b)\n",
        "\n",
        "main(3,4)\n",
        "main(7,12)   \n"
      ],
      "execution_count": 9,
      "outputs": [
        {
          "output_type": "stream",
          "name": "stdout",
          "text": [
            "7\n",
            "19\n"
          ]
        }
      ]
    },
    {
      "cell_type": "code",
      "metadata": {
        "id": "D1fzJjYBjqnZ"
      },
      "source": [
        "#call function using default arguments\n",
        "def main(a=12,b=45):\n",
        "    print(a+b)\n",
        "\n",
        "main()  \n",
        "main(34,67)  \n",
        "main()"
      ],
      "execution_count": null,
      "outputs": []
    },
    {
      "cell_type": "code",
      "metadata": {
        "colab": {
          "base_uri": "https://localhost:8080/"
        },
        "id": "LtpMxP-tkaHM",
        "outputId": "cc1ebc8a-1db1-4766-f3e1-98744cadb868"
      },
      "source": [
        "#one non-default argument , one default argument\n",
        "def main(a,b=45):\n",
        "    print(a+b)\n",
        "\n",
        "main(10)\n",
        "main(20,10)\n",
        "main(55)"
      ],
      "execution_count": 13,
      "outputs": [
        {
          "output_type": "stream",
          "name": "stdout",
          "text": [
            "55\n",
            "30\n",
            "100\n"
          ]
        }
      ]
    },
    {
      "cell_type": "code",
      "metadata": {
        "id": "Zf1THpN1k35H"
      },
      "source": [
        "def main(a=10,b): # WILL NOT WORK\n",
        "   print(a+b)\n",
        "\n",
        "\n",
        "main(20)"
      ],
      "execution_count": null,
      "outputs": []
    },
    {
      "cell_type": "code",
      "metadata": {
        "colab": {
          "base_uri": "https://localhost:8080/"
        },
        "id": "I0MqVDhqljn7",
        "outputId": "726b2c6e-a4c8-4ef0-e806-daaa06846bba"
      },
      "source": [
        "# ARBITARY argument : we can give maore than one value as argument using '*'\n",
        "\n",
        "def main(*name):\n",
        "     print(name)\n",
        "\n",
        "\n",
        "main(\"python\",\"django\",\"datascience\")"
      ],
      "execution_count": 18,
      "outputs": [
        {
          "output_type": "stream",
          "name": "stdout",
          "text": [
            "('python', 'django', 'datascience')\n"
          ]
        }
      ]
    }
  ]
}